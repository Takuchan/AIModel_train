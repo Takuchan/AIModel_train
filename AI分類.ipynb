{
  "cells": [
    {
      "cell_type": "markdown",
      "metadata": {
        "colab_type": "text",
        "id": "view-in-github"
      },
      "source": [
        "<a href=\"https://colab.research.google.com/github/Takuchan/AIModel_train/blob/master/AI%E5%88%86%E9%A1%9E.ipynb\" target=\"_parent\"><img src=\"https://colab.research.google.com/assets/colab-badge.svg\" alt=\"Open In Colab\"/></a>"
      ]
    },
    {
      "cell_type": "markdown",
      "metadata": {
        "id": "zrq8QU-8p9oH"
      },
      "source": [
        "いちご、ザクロ、ももの「新鮮な果物」「腐っている果物」をそれぞれディープラーニングさせる。\n"
      ]
    },
    {
      "cell_type": "code",
      "execution_count": 1,
      "metadata": {
        "id": "sUyCCSglGObW"
      },
      "outputs": [
        {
          "name": "stderr",
          "output_type": "stream",
          "text": [
            "2024-02-29 18:42:20.103284: I tensorflow/core/util/port.cc:113] oneDNN custom operations are on. You may see slightly different numerical results due to floating-point round-off errors from different computation orders. To turn them off, set the environment variable `TF_ENABLE_ONEDNN_OPTS=0`.\n",
            "2024-02-29 18:42:20.139560: E external/local_xla/xla/stream_executor/cuda/cuda_dnn.cc:9261] Unable to register cuDNN factory: Attempting to register factory for plugin cuDNN when one has already been registered\n",
            "2024-02-29 18:42:20.139592: E external/local_xla/xla/stream_executor/cuda/cuda_fft.cc:607] Unable to register cuFFT factory: Attempting to register factory for plugin cuFFT when one has already been registered\n",
            "2024-02-29 18:42:20.140568: E external/local_xla/xla/stream_executor/cuda/cuda_blas.cc:1515] Unable to register cuBLAS factory: Attempting to register factory for plugin cuBLAS when one has already been registered\n",
            "2024-02-29 18:42:20.146215: I tensorflow/core/platform/cpu_feature_guard.cc:182] This TensorFlow binary is optimized to use available CPU instructions in performance-critical operations.\n",
            "To enable the following instructions: AVX2 AVX512F AVX512_VNNI FMA, in other operations, rebuild TensorFlow with the appropriate compiler flags.\n",
            "2024-02-29 18:42:20.904529: W tensorflow/compiler/tf2tensorrt/utils/py_utils.cc:38] TF-TRT Warning: Could not find TensorRT\n",
            "/usr/lib/python3/dist-packages/scipy/__init__.py:146: UserWarning: A NumPy version >=1.17.3 and <1.25.0 is required for this version of SciPy (detected version 1.26.4\n",
            "  warnings.warn(f\"A NumPy version >={np_minversion} and <{np_maxversion}\"\n"
          ]
        }
      ],
      "source": [
        "%matplotlib inline\n",
        "import os\n",
        "import random\n",
        "import cv2\n",
        "import matplotlib.pyplot as plt\n",
        "import glob\n",
        "\n",
        "from keras.preprocessing.image import load_img, img_to_array\n",
        "\n",
        "\n",
        "from keras.utils import to_categorical\n",
        "from keras.models import Sequential\n",
        "from keras.layers import Dense, Flatten, Conv2D, MaxPooling2D"
      ]
    },
    {
      "cell_type": "code",
      "execution_count": 2,
      "metadata": {
        "id": "uBl8IFCEHMVu"
      },
      "outputs": [],
      "source": [
        "def select_random_images(path,num_images):\n",
        "    all_images = [f for f in os.listdir(path) if os.path.isfile(os.path.join(path, f))]\n",
        "    return random.sample(all_images, num_images)"
      ]
    },
    {
      "cell_type": "code",
      "execution_count": 3,
      "metadata": {
        "id": "9lt5c2BjgUYV"
      },
      "outputs": [],
      "source": [
        "import numpy as np\n",
        "\n",
        "img_sources = 'images'\n",
        "\n",
        "def list_directories(path):\n",
        "    return [d for d in os.listdir(path) if os.path.isdir(os.path.join(path, d))]\n",
        "\n",
        "directories = list_directories(img_sources)\n",
        "\n",
        "train_images = np.empty((0, 150, 150, 3)) # 空の ndarray を初期化\n",
        "test_images = np.empty((0, 150, 150, 3))\n",
        "\n",
        "train_labels_list = []\n",
        "test_labels_list= []\n",
        "\n",
        "tmp_train_images = train_images.tolist()\n",
        "tmp_test_images = test_images.tolist()\n",
        "\n",
        "for directory in directories:\n",
        "    file_path = os.path.join(img_sources, directory)\n",
        "    selected_images = select_random_images(file_path, 200)\n",
        "    count = 0\n",
        "    # (train_images,test_images) = selected_images[:150],selected_images[150:]\n",
        "    for image in selected_images:\n",
        "        img_array = img_to_array(load_img(os.path.join(file_path, image), target_size=(150, 150))) / 255\n",
        "        if count < 150:\n",
        "          tmp_train_images.append(img_array)\n",
        "          # train_images = np.append(train_images,[img_array],axis = 0)\n",
        "          if \"fresh_peach\" in image:\n",
        "              train_labels_list.append(1)\n",
        "          elif \"fresh_pomegranate\" in image:\n",
        "              train_labels_list.append(3)\n",
        "          elif \"fresh_strawberry\" in image:\n",
        "              train_labels_list.append(2)\n",
        "          elif \"rotten_strawberry\" in image:\n",
        "              train_labels_list.append(5)\n",
        "          elif \"rotten_pomegranate\" in image:\n",
        "              train_labels_list.append(3)\n",
        "          elif \"rotten_peach\" in image:\n",
        "              train_labels_list.append(4)\n",
        "        else:\n",
        "          # test_images = np.append(test_images,[img_array],axis = 0)\n",
        "          tmp_test_images.append(img_array)\n",
        "          if \"fresh_peach\" in image:\n",
        "              test_labels_list.append(1)\n",
        "          elif \"fresh_pomegranate\" in image:\n",
        "              test_labels_list.append(3)\n",
        "          elif \"fresh_strawberry\" in image:\n",
        "              test_labels_list.append(2)\n",
        "          elif \"rotten_strawberry\" in image:\n",
        "              test_labels_list.append(5)\n",
        "          elif \"rotten_pomegranate\" in image:\n",
        "              test_labels_list.append(3)\n",
        "          elif \"rotten_peach\" in image:\n",
        "              test_labels_list.append(4)\n",
        "        count = count +1\n"
      ]
    },
    {
      "cell_type": "code",
      "execution_count": 4,
      "metadata": {
        "id": "ovgPvlfM_IZM"
      },
      "outputs": [],
      "source": [
        "train_images = np.asarray(tmp_train_images)\n",
        "test_images = np.asarray(tmp_test_images)\n",
        "\n",
        "train_labels = np.array(train_labels_list)\n",
        "test_labels = np.array(test_labels_list)"
      ]
    },
    {
      "cell_type": "code",
      "execution_count": 5,
      "metadata": {
        "colab": {
          "base_uri": "https://localhost:8080/"
        },
        "id": "N1_hQ_4tACBd",
        "outputId": "9d1353c6-814c-4421-e753-3a8941a5ae78"
      },
      "outputs": [
        {
          "name": "stdout",
          "output_type": "stream",
          "text": [
            "aho 900 300 900 300\n",
            "(900, 150, 150, 3)\n",
            "(300, 150, 150, 3)\n",
            "(900,)\n",
            "[2, 2, 2, 2, 2, 2, 2, 2, 2, 2, 2, 2, 2, 2, 2, 2, 2, 2, 2, 2, 2, 2, 2, 2, 2, 2, 2, 2, 2, 2, 2, 2, 2, 2, 2, 2, 2, 2, 2, 2, 2, 2, 2, 2, 2, 2, 2, 2, 2, 2, 2, 2, 2, 2, 2, 2, 2, 2, 2, 2, 2, 2, 2, 2, 2, 2, 2, 2, 2, 2, 2, 2, 2, 2, 2, 2, 2, 2, 2, 2, 2, 2, 2, 2, 2, 2, 2, 2, 2, 2, 2, 2, 2, 2, 2, 2, 2, 2, 2, 2, 2, 2, 2, 2, 2, 2, 2, 2, 2, 2, 2, 2, 2, 2, 2, 2, 2, 2, 2, 2, 2, 2, 2, 2, 2, 2, 2, 2, 2, 2, 2, 2, 2, 2, 2, 2, 2, 2, 2, 2, 2, 2, 2, 2, 2, 2, 2, 2, 2, 2, 3, 3, 3, 3, 3, 3, 3, 3, 3, 3, 3, 3, 3, 3, 3, 3, 3, 3, 3, 3, 3, 3, 3, 3, 3, 3, 3, 3, 3, 3, 3, 3, 3, 3, 3, 3, 3, 3, 3, 3, 3, 3, 3, 3, 3, 3, 3, 3, 3, 3, 3, 3, 3, 3, 3, 3, 3, 3, 3, 3, 3, 3, 3, 3, 3, 3, 3, 3, 3, 3, 3, 3, 3, 3, 3, 3, 3, 3, 3, 3, 3, 3, 3, 3, 3, 3, 3, 3, 3, 3, 3, 3, 3, 3, 3, 3, 3, 3, 3, 3, 3, 3, 3, 3, 3, 3, 3, 3, 3, 3, 3, 3, 3, 3, 3, 3, 3, 3, 3, 3, 3, 3, 3, 3, 3, 3, 3, 3, 3, 3, 3, 3, 3, 3, 3, 3, 3, 3, 3, 3, 3, 3, 3, 3, 3, 3, 3, 3, 3, 3, 1, 1, 1, 1, 1, 1, 1, 1, 1, 1, 1, 1, 1, 1, 1, 1, 1, 1, 1, 1, 1, 1, 1, 1, 1, 1, 1, 1, 1, 1, 1, 1, 1, 1, 1, 1, 1, 1, 1, 1, 1, 1, 1, 1, 1, 1, 1, 1, 1, 1, 1, 1, 1, 1, 1, 1, 1, 1, 1, 1, 1, 1, 1, 1, 1, 1, 1, 1, 1, 1, 1, 1, 1, 1, 1, 1, 1, 1, 1, 1, 1, 1, 1, 1, 1, 1, 1, 1, 1, 1, 1, 1, 1, 1, 1, 1, 1, 1, 1, 1, 1, 1, 1, 1, 1, 1, 1, 1, 1, 1, 1, 1, 1, 1, 1, 1, 1, 1, 1, 1, 1, 1, 1, 1, 1, 1, 1, 1, 1, 1, 1, 1, 1, 1, 1, 1, 1, 1, 1, 1, 1, 1, 1, 1, 1, 1, 1, 1, 1, 1, 4, 4, 4, 4, 4, 4, 4, 4, 4, 4, 4, 4, 4, 4, 4, 4, 4, 4, 4, 4, 4, 4, 4, 4, 4, 4, 4, 4, 4, 4, 4, 4, 4, 4, 4, 4, 4, 4, 4, 4, 4, 4, 4, 4, 4, 4, 4, 4, 4, 4, 4, 4, 4, 4, 4, 4, 4, 4, 4, 4, 4, 4, 4, 4, 4, 4, 4, 4, 4, 4, 4, 4, 4, 4, 4, 4, 4, 4, 4, 4, 4, 4, 4, 4, 4, 4, 4, 4, 4, 4, 4, 4, 4, 4, 4, 4, 4, 4, 4, 4, 4, 4, 4, 4, 4, 4, 4, 4, 4, 4, 4, 4, 4, 4, 4, 4, 4, 4, 4, 4, 4, 4, 4, 4, 4, 4, 4, 4, 4, 4, 4, 4, 4, 4, 4, 4, 4, 4, 4, 4, 4, 4, 4, 4, 4, 4, 4, 4, 4, 4, 5, 5, 5, 5, 5, 5, 5, 5, 5, 5, 5, 5, 5, 5, 5, 5, 5, 5, 5, 5, 5, 5, 5, 5, 5, 5, 5, 5, 5, 5, 5, 5, 5, 5, 5, 5, 5, 5, 5, 5, 5, 5, 5, 5, 5, 5, 5, 5, 5, 5, 5, 5, 5, 5, 5, 5, 5, 5, 5, 5, 5, 5, 5, 5, 5, 5, 5, 5, 5, 5, 5, 5, 5, 5, 5, 5, 5, 5, 5, 5, 5, 5, 5, 5, 5, 5, 5, 5, 5, 5, 5, 5, 5, 5, 5, 5, 5, 5, 5, 5, 5, 5, 5, 5, 5, 5, 5, 5, 5, 5, 5, 5, 5, 5, 5, 5, 5, 5, 5, 5, 5, 5, 5, 5, 5, 5, 5, 5, 5, 5, 5, 5, 5, 5, 5, 5, 5, 5, 5, 5, 5, 5, 5, 5, 5, 5, 5, 5, 5, 5, 3, 3, 3, 3, 3, 3, 3, 3, 3, 3, 3, 3, 3, 3, 3, 3, 3, 3, 3, 3, 3, 3, 3, 3, 3, 3, 3, 3, 3, 3, 3, 3, 3, 3, 3, 3, 3, 3, 3, 3, 3, 3, 3, 3, 3, 3, 3, 3, 3, 3, 3, 3, 3, 3, 3, 3, 3, 3, 3, 3, 3, 3, 3, 3, 3, 3, 3, 3, 3, 3, 3, 3, 3, 3, 3, 3, 3, 3, 3, 3, 3, 3, 3, 3, 3, 3, 3, 3, 3, 3, 3, 3, 3, 3, 3, 3, 3, 3, 3, 3, 3, 3, 3, 3, 3, 3, 3, 3, 3, 3, 3, 3, 3, 3, 3, 3, 3, 3, 3, 3, 3, 3, 3, 3, 3, 3, 3, 3, 3, 3, 3, 3, 3, 3, 3, 3, 3, 3, 3, 3, 3, 3, 3, 3, 3, 3, 3, 3, 3, 3]\n"
          ]
        }
      ],
      "source": [
        "print(\"aho\",len(train_images),len(test_images),len(train_labels),len(test_labels))\n",
        "print(train_images.shape)\n",
        "print(test_images.shape)\n",
        "print(train_labels.shape)\n",
        "\n",
        "print(train_labels_list)"
      ]
    },
    {
      "cell_type": "code",
      "execution_count": 6,
      "metadata": {},
      "outputs": [],
      "source": [
        "train_labels = to_categorical(train_labels)\n",
        "test_labels = to_categorical(test_labels)\n",
        "train_images = train_images.reshape((900, 150, 150, 3))\n",
        "test_images = test_images.reshape((300, 150, 150, 3))"
      ]
    },
    {
      "cell_type": "markdown",
      "metadata": {
        "id": "HxsDpF0X5y7K"
      },
      "source": [
        "labelの使い分け\n",
        "1(fresh_peaches)\n",
        "2(fresh_strawberries)\n",
        "3(fresh_pomegranates)\n",
        "4(rotten_peaches)\n",
        "5(rotten_strawberries)\n",
        "6(rotten_pomegranates)"
      ]
    },
    {
      "cell_type": "code",
      "execution_count": 7,
      "metadata": {
        "id": "Y0pgcu4fYvDS"
      },
      "outputs": [
        {
          "name": "stderr",
          "output_type": "stream",
          "text": [
            "2024-02-29 18:42:22.077518: E external/local_xla/xla/stream_executor/cuda/cuda_driver.cc:274] failed call to cuInit: CUDA_ERROR_COMPAT_NOT_SUPPORTED_ON_DEVICE: forward compatibility was attempted on non supported HW\n",
            "2024-02-29 18:42:22.077541: I external/local_xla/xla/stream_executor/cuda/cuda_diagnostics.cc:129] retrieving CUDA diagnostic information for host: tk\n",
            "2024-02-29 18:42:22.077545: I external/local_xla/xla/stream_executor/cuda/cuda_diagnostics.cc:136] hostname: tk\n",
            "2024-02-29 18:42:22.077633: I external/local_xla/xla/stream_executor/cuda/cuda_diagnostics.cc:159] libcuda reported version is: 535.161.7\n",
            "2024-02-29 18:42:22.077649: I external/local_xla/xla/stream_executor/cuda/cuda_diagnostics.cc:163] kernel reported version is: 535.154.5\n",
            "2024-02-29 18:42:22.077653: E external/local_xla/xla/stream_executor/cuda/cuda_diagnostics.cc:244] kernel version 535.154.5 does not match DSO version 535.161.7 -- cannot find working devices in this configuration\n"
          ]
        }
      ],
      "source": [
        "from tensorflow import keras\n",
        "from tensorflow.keras import layers\n",
        "\n",
        "model = Sequential()\n",
        "model.add(Conv2D(32, (3, 3), activation='relu', input_shape=(150, 150, 3)))\n",
        "model.add(MaxPooling2D((2, 2)))\n",
        "model.add(Conv2D(64, (3, 3), activation='relu'))\n",
        "model.add(MaxPooling2D((2, 2)))\n",
        "model.add(Conv2D(128, (3, 3), activation='relu'))\n",
        "model.add(MaxPooling2D((2, 2)))\n",
        "model.add(Flatten())\n",
        "model.add(Dense(512, activation='relu'))\n",
        "model.add(Dense(6, activation='softmax'))"
      ]
    },
    {
      "cell_type": "code",
      "execution_count": 8,
      "metadata": {
        "id": "9x6llOlLZB4P"
      },
      "outputs": [],
      "source": [
        "\n",
        "model.compile(optimizer=\"rmsprop\",\n",
        "              loss=\"categorical_crossentropy\",\n",
        "              metrics=[\"accuracy\"])"
      ]
    },
    {
      "cell_type": "code",
      "execution_count": 9,
      "metadata": {
        "colab": {
          "base_uri": "https://localhost:8080/"
        },
        "id": "k0hqo0nPBdV5",
        "outputId": "72a18fb3-394e-455d-dc25-ee94013a9825"
      },
      "outputs": [
        {
          "name": "stdout",
          "output_type": "stream",
          "text": [
            "Epoch 1/16\n",
            "90/90 [==============================] - 11s 120ms/step - loss: 2.0856 - accuracy: 0.3322\n",
            "Epoch 2/16\n",
            "90/90 [==============================] - 11s 117ms/step - loss: 1.2284 - accuracy: 0.4911\n",
            "Epoch 3/16\n",
            "90/90 [==============================] - 11s 119ms/step - loss: 1.0440 - accuracy: 0.5789\n",
            "Epoch 4/16\n",
            "90/90 [==============================] - 11s 123ms/step - loss: 0.8827 - accuracy: 0.6589\n",
            "Epoch 5/16\n",
            "90/90 [==============================] - 10s 111ms/step - loss: 0.7097 - accuracy: 0.7433\n",
            "Epoch 6/16\n",
            "90/90 [==============================] - 11s 123ms/step - loss: 0.5944 - accuracy: 0.7989\n",
            "Epoch 7/16\n",
            "90/90 [==============================] - 11s 125ms/step - loss: 0.4479 - accuracy: 0.8422\n",
            "Epoch 8/16\n",
            "90/90 [==============================] - 11s 117ms/step - loss: 0.3744 - accuracy: 0.8800\n",
            "Epoch 9/16\n",
            "90/90 [==============================] - 10s 115ms/step - loss: 0.3085 - accuracy: 0.9222\n",
            "Epoch 10/16\n",
            "90/90 [==============================] - 10s 113ms/step - loss: 0.1723 - accuracy: 0.9533\n",
            "Epoch 11/16\n",
            "90/90 [==============================] - 10s 115ms/step - loss: 0.1372 - accuracy: 0.9589\n",
            "Epoch 12/16\n",
            "90/90 [==============================] - 11s 118ms/step - loss: 0.1173 - accuracy: 0.9589\n",
            "Epoch 13/16\n",
            "90/90 [==============================] - 10s 112ms/step - loss: 0.1511 - accuracy: 0.9656\n",
            "Epoch 14/16\n",
            "90/90 [==============================] - 11s 118ms/step - loss: 0.0713 - accuracy: 0.9822\n",
            "Epoch 15/16\n",
            "90/90 [==============================] - 10s 114ms/step - loss: 0.1060 - accuracy: 0.9611\n",
            "Epoch 16/16\n",
            "90/90 [==============================] - 10s 115ms/step - loss: 0.0287 - accuracy: 0.9944\n"
          ]
        },
        {
          "data": {
            "text/plain": [
              "<keras.src.callbacks.History at 0x7f0fc02ae1a0>"
            ]
          },
          "execution_count": 9,
          "metadata": {},
          "output_type": "execute_result"
        }
      ],
      "source": [
        "model.fit(train_images,train_labels,epochs=16,batch_size=10)"
      ]
    },
    {
      "cell_type": "code",
      "execution_count": 12,
      "metadata": {},
      "outputs": [
        {
          "name": "stdout",
          "output_type": "stream",
          "text": [
            "10/10 [==============================] - 1s 66ms/step - loss: 2.5595 - accuracy: 0.6600\n",
            "2.5595479011535645 0.6600000262260437\n"
          ]
        }
      ],
      "source": [
        "test_loss, test_acc = model.evaluate(test_images, test_labels)  # テスト\n",
        "print(test_loss, test_acc)"
      ]
    },
    {
      "cell_type": "code",
      "execution_count": null,
      "metadata": {},
      "outputs": [],
      "source": []
    }
  ],
  "metadata": {
    "colab": {
      "authorship_tag": "ABX9TyNV+PU0avehjhuHDIIWamcz",
      "include_colab_link": true,
      "provenance": []
    },
    "kernelspec": {
      "display_name": "Python 3",
      "name": "python3"
    },
    "language_info": {
      "codemirror_mode": {
        "name": "ipython",
        "version": 3
      },
      "file_extension": ".py",
      "mimetype": "text/x-python",
      "name": "python",
      "nbconvert_exporter": "python",
      "pygments_lexer": "ipython3",
      "version": "3.10.12"
    }
  },
  "nbformat": 4,
  "nbformat_minor": 0
}
