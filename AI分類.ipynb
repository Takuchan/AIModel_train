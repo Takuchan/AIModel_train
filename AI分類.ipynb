{
  "nbformat": 4,
  "nbformat_minor": 0,
  "metadata": {
    "colab": {
      "provenance": [],
      "authorship_tag": "ABX9TyNV+PU0avehjhuHDIIWamcz",
      "include_colab_link": true
    },
    "kernelspec": {
      "name": "python3",
      "display_name": "Python 3"
    },
    "language_info": {
      "name": "python"
    }
  },
  "cells": [
    {
      "cell_type": "markdown",
      "metadata": {
        "id": "view-in-github",
        "colab_type": "text"
      },
      "source": [
        "<a href=\"https://colab.research.google.com/github/Takuchan/AIModel_train/blob/master/AI%E5%88%86%E9%A1%9E.ipynb\" target=\"_parent\"><img src=\"https://colab.research.google.com/assets/colab-badge.svg\" alt=\"Open In Colab\"/></a>"
      ]
    },
    {
      "cell_type": "markdown",
      "source": [
        "いちご、ザクロ、ももの「新鮮な果物」「腐っている果物」をそれぞれディープラーニングさせる。\n"
      ],
      "metadata": {
        "id": "zrq8QU-8p9oH"
      }
    },
    {
      "cell_type": "code",
      "execution_count": 1,
      "metadata": {
        "colab": {
          "base_uri": "https://localhost:8080/"
        },
        "id": "zEPdvm-Cp7jD",
        "outputId": "e0e8422d-2af1-4fab-d63d-a0957a8a0a4a"
      },
      "outputs": [
        {
          "output_type": "stream",
          "name": "stdout",
          "text": [
            "Drive already mounted at /content/drive; to attempt to forcibly remount, call drive.mount(\"/content/drive\", force_remount=True).\n"
          ]
        }
      ],
      "source": [
        "from google.colab import drive\n",
        "drive.mount('/content/drive')\n"
      ]
    },
    {
      "cell_type": "code",
      "source": [
        "%matplotlib inline\n",
        "import os\n",
        "import random\n",
        "import cv2\n",
        "import matplotlib.pyplot as plt\n",
        "import glob\n",
        "\n",
        "from keras.preprocessing.image import load_img, img_to_array\n"
      ],
      "metadata": {
        "id": "sUyCCSglGObW"
      },
      "execution_count": 2,
      "outputs": []
    },
    {
      "cell_type": "code",
      "source": [
        "def select_random_images(path,num_images):\n",
        "    all_images = [f for f in os.listdir(path) if os.path.isfile(os.path.join(path, f))]\n",
        "    return random.sample(all_images, num_images)"
      ],
      "metadata": {
        "id": "uBl8IFCEHMVu"
      },
      "execution_count": 3,
      "outputs": []
    },
    {
      "cell_type": "code",
      "source": [
        "import numpy as np\n",
        "\n",
        "img_sources = '/content/drive/MyDrive/Colab Notebooks/授業用/photos/'\n",
        "\n",
        "def list_directories(path):\n",
        "    return [d for d in os.listdir(path) if os.path.isdir(os.path.join(path, d))]\n",
        "\n",
        "directories = list_directories(img_sources)\n",
        "\n",
        "train_images = np.empty((0, 300, 300, 3)) # 空の ndarray を初期化\n",
        "test_images = np.empty((0, 300, 300, 3))\n",
        "\n",
        "train_labels_list = []\n",
        "test_labels_list= []\n",
        "\n",
        "tmp_train_images = train_images.tolist()\n",
        "tmp_test_images = test_images.tolist()\n",
        "\n",
        "for directory in directories:\n",
        "    file_path = os.path.join(img_sources, directory)\n",
        "    selected_images = select_random_images(file_path, 200)\n",
        "    count = 0\n",
        "    # (train_images,test_images) = selected_images[:150],selected_images[150:]\n",
        "    for image in selected_images:\n",
        "        img_array = img_to_array(load_img(os.path.join(file_path, image), target_size=(300, 300))) / 255\n",
        "        if count < 150:\n",
        "          tmp_train_images.append(img_array)\n",
        "          # train_images = np.append(train_images,[img_array],axis = 0)\n",
        "          if \"fresh_peach\" in image:\n",
        "              train_labels_list.append(1)\n",
        "          elif \"fresh_pomegranate\" in image:\n",
        "              train_labels_list.append(3)\n",
        "          elif \"fresh_strawberry\" in image:\n",
        "              train_labels_list.append(2)\n",
        "          elif \"rotten_strawberry\" in image:\n",
        "              train_labels_list.append(5)\n",
        "          elif \"rotten_pomegranate\" in image:\n",
        "              train_labels_list.append(3)\n",
        "          elif \"rotten_peach\" in image:\n",
        "              train_labels_list.append(4)\n",
        "        else:\n",
        "          # test_images = np.append(test_images,[img_array],axis = 0)\n",
        "          tmp_test_images.append(img_array)\n",
        "          if \"fresh_peach\" in image:\n",
        "              test_labels_list.append(1)\n",
        "          elif \"fresh_pomegranate\" in image:\n",
        "              test_labels_list.append(3)\n",
        "          elif \"fresh_strawberry\" in image:\n",
        "              test_labels_list.append(2)\n",
        "          elif \"rotten_strawberry\" in image:\n",
        "              test_labels_list.append(5)\n",
        "          elif \"rotten_pomegranate\" in image:\n",
        "              test_labels_list.append(3)\n",
        "          elif \"rotten_peach\" in image:\n",
        "              test_labels_list.append(4)\n",
        "        count = count +1\n"
      ],
      "metadata": {
        "id": "9lt5c2BjgUYV"
      },
      "execution_count": 5,
      "outputs": []
    },
    {
      "cell_type": "code",
      "source": [
        "train_images = np.asarray(tmp_train_images)\n",
        "test_images = np.asarray(tmp_test_images)\n",
        "\n",
        "train_labels = np.array(train_labels_list)\n",
        "test_labels = np.array(test_labels_list)"
      ],
      "metadata": {
        "id": "ovgPvlfM_IZM"
      },
      "execution_count": 6,
      "outputs": []
    },
    {
      "cell_type": "code",
      "source": [
        "print(len(train_images),len(test_images),len(train_labels),len(test_labels))"
      ],
      "metadata": {
        "colab": {
          "base_uri": "https://localhost:8080/"
        },
        "id": "N1_hQ_4tACBd",
        "outputId": "9d1353c6-814c-4421-e753-3a8941a5ae78"
      },
      "execution_count": 7,
      "outputs": [
        {
          "output_type": "stream",
          "name": "stdout",
          "text": [
            "900 300 900 300\n"
          ]
        }
      ]
    },
    {
      "cell_type": "markdown",
      "source": [
        "labelの使い分け\n",
        "1(fresh_peaches)\n",
        "2(fresh_strawberries)\n",
        "3(fresh_pomegranates)\n",
        "4(rotten_peaches)\n",
        "5(rotten_strawberries)\n",
        "6(rotten_pomegranates)"
      ],
      "metadata": {
        "id": "HxsDpF0X5y7K"
      }
    },
    {
      "cell_type": "code",
      "source": [
        "from tensorflow import keras\n",
        "from tensorflow.keras import layers\n",
        "\n",
        "model = keras.Sequential([\n",
        "    layers.Dense(512,activation=\"relu\"),\n",
        "    layers.Dense(6,activation=\"softmax\")\n",
        "])"
      ],
      "metadata": {
        "id": "Y0pgcu4fYvDS"
      },
      "execution_count": 8,
      "outputs": []
    },
    {
      "cell_type": "code",
      "source": [
        "\n",
        "model.compile(optimizer=\"rmsprop\",\n",
        "              loss=\"sparse_categorical_crossentropy\",\n",
        "              metrics=[\"accuracy\"])"
      ],
      "metadata": {
        "id": "9x6llOlLZB4P"
      },
      "execution_count": 9,
      "outputs": []
    },
    {
      "cell_type": "code",
      "source": [
        "test_images.shape"
      ],
      "metadata": {
        "colab": {
          "base_uri": "https://localhost:8080/"
        },
        "id": "N_30HcLJBQsp",
        "outputId": "83d84763-0904-407a-a56a-6148f35ae5bc"
      },
      "execution_count": 10,
      "outputs": [
        {
          "output_type": "execute_result",
          "data": {
            "text/plain": [
              "(300, 300, 300, 3)"
            ]
          },
          "metadata": {},
          "execution_count": 10
        }
      ]
    },
    {
      "cell_type": "code",
      "source": [
        "train_images = train_images.reshape((900, 300*300,3))\n",
        "train_images = train_images.astype(\"float32\") / 255\n",
        "test_images = test_images.reshape((300, 300*300,3))\n",
        "test_images = test_images.astype(\"float32\") / 255"
      ],
      "metadata": {
        "id": "pGJUMZrkAwB4"
      },
      "execution_count": 11,
      "outputs": []
    },
    {
      "cell_type": "code",
      "source": [
        "model.fit(train_images,train_labels,epochs=5,batch_size=128)"
      ],
      "metadata": {
        "colab": {
          "base_uri": "https://localhost:8080/"
        },
        "id": "k0hqo0nPBdV5",
        "outputId": "72a18fb3-394e-455d-dc25-ee94013a9825"
      },
      "execution_count": null,
      "outputs": [
        {
          "output_type": "stream",
          "name": "stdout",
          "text": [
            "Epoch 1/5\n"
          ]
        }
      ]
    }
  ]
}